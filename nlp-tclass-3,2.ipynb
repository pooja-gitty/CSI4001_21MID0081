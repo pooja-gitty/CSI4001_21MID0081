{
 "cells": [
  {
   "cell_type": "code",
   "execution_count": 1,
   "id": "715dae95-6dec-4164-8dbb-dd545ddd7d17",
   "metadata": {},
   "outputs": [],
   "source": [
    "import nltk\n",
    "f = open('tweets1.txt','r')"
   ]
  },
  {
   "cell_type": "code",
   "execution_count": 2,
   "id": "8a96b1bb-8bc9-4a7b-9e8a-2441ad633c1b",
   "metadata": {},
   "outputs": [],
   "source": [
    "text = f.read()\n",
    "text1 = text.split() #splitting the words using a space\n",
    "text2 = nltk.Text(text1)"
   ]
  },
  {
   "cell_type": "code",
   "execution_count": 3,
   "id": "578e8e01-0448-4680-b065-c39ded5845af",
   "metadata": {},
   "outputs": [
    {
     "name": "stdout",
     "output_type": "stream",
     "text": [
      "Displaying 9 of 9 matches:\n",
      "or joy Main session is over. Time to find people I am sitting waitng for the s\n",
      "beer baroness holds a competition to find the world's saddest music. Tonight, \n",
      "hose people who flies frequently can find the energy to work. XY Doc: \"Secrets\n",
      " PTs State Conference in Roanoke VA. Find out more - url building out some wor\n",
      "orld-class usability expertise. Must find out how. Watching lord of the rings \n",
      "nteresting guy...I like him. I can't find my hellyeahdude coaster? Installed F\n",
      "em off to the printer! scrambling to find a buddy with wheels to pick up a mat\n",
      "er opportunity at a Magnet Hospital? Find what you've been looking for at Rest\n",
      "ll is well! Happy Wednesday 01.23.08 Find out where pro abort Catholic pols go\n"
     ]
    }
   ],
   "source": [
    "text2.concordance(\"find\") #to get the context"
   ]
  },
  {
   "cell_type": "code",
   "execution_count": 4,
   "id": "4285b0f2-a94b-4e8f-a99e-f151e7a25d77",
   "metadata": {},
   "outputs": [],
   "source": [
    "from urllib import request"
   ]
  },
  {
   "cell_type": "code",
   "execution_count": 5,
   "id": "31fd9434-f3fa-446a-bfbd-593d59ad06af",
   "metadata": {},
   "outputs": [],
   "source": [
    "url = \"https://www.gutenberg.org/cache/epub/75300/pg75300.txt\""
   ]
  },
  {
   "cell_type": "code",
   "execution_count": 6,
   "id": "5e8fd8c3-645b-48bb-8af1-5e99c539d53c",
   "metadata": {},
   "outputs": [],
   "source": [
    "response = request.urlopen(url)"
   ]
  },
  {
   "cell_type": "code",
   "execution_count": 7,
   "id": "e7795518-b57a-4042-a8a1-f7647d60566e",
   "metadata": {},
   "outputs": [],
   "source": [
    "raw=response.read().decode('utf8')"
   ]
  },
  {
   "cell_type": "code",
   "execution_count": 8,
   "id": "7fce0dd6-4554-4320-a8f0-1367b93bc031",
   "metadata": {},
   "outputs": [
    {
     "data": {
      "text/plain": [
       "str"
      ]
     },
     "execution_count": 8,
     "metadata": {},
     "output_type": "execute_result"
    }
   ],
   "source": [
    "type(raw)"
   ]
  },
  {
   "cell_type": "code",
   "execution_count": 9,
   "id": "2180069e-ec90-4d10-9e02-a7c779f26c5d",
   "metadata": {},
   "outputs": [
    {
     "data": {
      "text/plain": [
       "'\\ufeffThe Project Gutenberg eBook of Manners for the metropolis\\r\\n    \\r\\nThis eboo'"
      ]
     },
     "execution_count": 9,
     "metadata": {},
     "output_type": "execute_result"
    }
   ],
   "source": [
    "raw[:75]"
   ]
  },
  {
   "cell_type": "code",
   "execution_count": 10,
   "id": "6a223920-a0b2-4dfe-b7d8-741de0c3abd4",
   "metadata": {},
   "outputs": [],
   "source": [
    "from nltk.tokenize import word_tokenize\n",
    "tokens = word_tokenize(raw)"
   ]
  },
  {
   "cell_type": "code",
   "execution_count": 11,
   "id": "fda1d491-82a7-4ecb-9074-b1efe93052a9",
   "metadata": {},
   "outputs": [
    {
     "data": {
      "text/plain": [
       "list"
      ]
     },
     "execution_count": 11,
     "metadata": {},
     "output_type": "execute_result"
    }
   ],
   "source": [
    "type(tokens)"
   ]
  },
  {
   "cell_type": "code",
   "execution_count": null,
   "id": "f9d1c9df-8355-40ec-ab3b-e4e734364142",
   "metadata": {},
   "outputs": [],
   "source": []
  }
 ],
 "metadata": {
  "kernelspec": {
   "display_name": "Python 3 (ipykernel)",
   "language": "python",
   "name": "python3"
  },
  "language_info": {
   "codemirror_mode": {
    "name": "ipython",
    "version": 3
   },
   "file_extension": ".py",
   "mimetype": "text/x-python",
   "name": "python",
   "nbconvert_exporter": "python",
   "pygments_lexer": "ipython3",
   "version": "3.12.2"
  }
 },
 "nbformat": 4,
 "nbformat_minor": 5
}
